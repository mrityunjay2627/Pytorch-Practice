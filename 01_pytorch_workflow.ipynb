{
  "nbformat": 4,
  "nbformat_minor": 0,
  "metadata": {
    "colab": {
      "provenance": [],
      "gpuType": "T4"
    },
    "kernelspec": {
      "name": "python3",
      "display_name": "Python 3"
    },
    "language_info": {
      "name": "python"
    },
    "accelerator": "GPU"
  },
  "cells": [
    {
      "cell_type": "markdown",
      "source": [
        "## PyTorch Workflow\n",
        "\n",
        "Let's explore an example PyTorch end-to-end workflow"
      ],
      "metadata": {
        "id": "LCKVZwludBVP"
      }
    },
    {
      "cell_type": "code",
      "source": [
        "what_we_are_covering = {1:\"data (prepare and load)\",\n",
        "                        2:\"build model\",\n",
        "                        3:\"fitting the model to data (training)\",\n",
        "                        4:\"making predictions and evaluating a model (inference)\",\n",
        "                        5:\"saving and loading a model\",\n",
        "                        6:\"putting it all together\"}\n",
        "\n",
        "what_we_are_covering"
      ],
      "metadata": {
        "colab": {
          "base_uri": "https://localhost:8080/"
        },
        "id": "UnLJSJhddaEl",
        "outputId": "73713378-4e45-4b1f-e0cc-d516abc76d20"
      },
      "execution_count": 1,
      "outputs": [
        {
          "output_type": "execute_result",
          "data": {
            "text/plain": [
              "{1: 'data (prepare and load)',\n",
              " 2: 'build model',\n",
              " 3: 'fitting the model to data (training)',\n",
              " 4: 'making predictions and evaluating a model (inference)',\n",
              " 5: 'saving and loading a model',\n",
              " 6: 'putting it all together'}"
            ]
          },
          "metadata": {},
          "execution_count": 1
        }
      ]
    },
    {
      "cell_type": "code",
      "source": [
        "import torch\n",
        "from torch import nn # nn contains all of PyTorch's building blocks for neural networks.\n",
        "import matplotlib.pyplot as plt\n",
        "\n",
        "torch.__version__"
      ],
      "metadata": {
        "colab": {
          "base_uri": "https://localhost:8080/",
          "height": 35
        },
        "id": "jSpHW6cwd09j",
        "outputId": "15aa5cf2-61e1-4395-c5df-3c9e9479051f"
      },
      "execution_count": 2,
      "outputs": [
        {
          "output_type": "execute_result",
          "data": {
            "text/plain": [
              "'2.5.1+cu121'"
            ],
            "application/vnd.google.colaboratory.intrinsic+json": {
              "type": "string"
            }
          },
          "metadata": {},
          "execution_count": 2
        }
      ]
    },
    {
      "cell_type": "code",
      "source": [],
      "metadata": {
        "id": "KKHiJcU8eg9B",
        "colab": {
          "base_uri": "https://localhost:8080/"
        },
        "outputId": "943bfc86-3e46-4166-97f1-4268a12fd85a"
      },
      "execution_count": 8,
      "outputs": [
        {
          "output_type": "execute_result",
          "data": {
            "text/plain": [
              "tensor([0.2525, 0.0190])"
            ]
          },
          "metadata": {},
          "execution_count": 8
        }
      ]
    },
    {
      "cell_type": "markdown",
      "source": [
        "#### Create Device Agnostic Code\n",
        "\n",
        "This means if we've got access to a GPU. our code will use it.\n",
        "If no GPU is available, the code will default to using CPU."
      ],
      "metadata": {
        "id": "UcWIYYlUb0AT"
      }
    },
    {
      "cell_type": "code",
      "source": [
        "device = \"cuda\" if torch.cuda.is_available() else \"cpu\"\n",
        "print(f\"Using device: {device}\")"
      ],
      "metadata": {
        "colab": {
          "base_uri": "https://localhost:8080/"
        },
        "id": "kidVncOsb0HZ",
        "outputId": "cfcf4e57-fe46-4b2a-cc36-cc316cd0a026"
      },
      "execution_count": null,
      "outputs": [
        {
          "output_type": "stream",
          "name": "stdout",
          "text": [
            "Using device: cuda\n"
          ]
        }
      ]
    },
    {
      "cell_type": "markdown",
      "source": [
        "### 1. Data (preparing and loading)"
      ],
      "metadata": {
        "id": "Q66qA3SCfEA9"
      }
    },
    {
      "cell_type": "code",
      "source": [
        "# Create *known* parameters\n",
        "weight = 0.7\n",
        "bias = 0.3\n",
        "\n",
        "# Create\n",
        "start = 0\n",
        "end = 1\n",
        "step = 0.02\n",
        "X = torch.arange(start, end, step).unsqueeze(dim=1)\n",
        "y = weight*X+bias\n",
        "\n",
        "X[:10], y[:10]"
      ],
      "metadata": {
        "id": "7Avr8gnzfJm_",
        "colab": {
          "base_uri": "https://localhost:8080/"
        },
        "outputId": "d57c966a-ff5e-4e39-9a37-164745bcf2e3"
      },
      "execution_count": null,
      "outputs": [
        {
          "output_type": "execute_result",
          "data": {
            "text/plain": [
              "(tensor([[0.0000],\n",
              "         [0.0200],\n",
              "         [0.0400],\n",
              "         [0.0600],\n",
              "         [0.0800],\n",
              "         [0.1000],\n",
              "         [0.1200],\n",
              "         [0.1400],\n",
              "         [0.1600],\n",
              "         [0.1800]]),\n",
              " tensor([[0.3000],\n",
              "         [0.3140],\n",
              "         [0.3280],\n",
              "         [0.3420],\n",
              "         [0.3560],\n",
              "         [0.3700],\n",
              "         [0.3840],\n",
              "         [0.3980],\n",
              "         [0.4120],\n",
              "         [0.4260]]))"
            ]
          },
          "metadata": {},
          "execution_count": 4
        }
      ]
    },
    {
      "cell_type": "code",
      "source": [],
      "metadata": {
        "id": "1EtHrY3TRiUB"
      },
      "execution_count": null,
      "outputs": []
    },
    {
      "cell_type": "markdown",
      "source": [
        "#### Splitting data into training and test sets"
      ],
      "metadata": {
        "id": "K1CUI3wK3wki"
      }
    },
    {
      "cell_type": "code",
      "source": [
        "# Create a train/test split\n",
        "train_split = int(0.8 * len(X))\n",
        "X_train, y_train = X[:train_split], y[:train_split]\n",
        "X_test, y_test = X[train_split:], y[train_split:]\n",
        "\n",
        "len(X_train), len(y_train), len(X_test), len(y_test)"
      ],
      "metadata": {
        "colab": {
          "base_uri": "https://localhost:8080/"
        },
        "id": "i9UzQHK532D_",
        "outputId": "a42d1364-019e-481f-c0a8-d8c78ca1f1da"
      },
      "execution_count": null,
      "outputs": [
        {
          "output_type": "execute_result",
          "data": {
            "text/plain": [
              "(40, 40, 10, 10)"
            ]
          },
          "metadata": {},
          "execution_count": 5
        }
      ]
    },
    {
      "cell_type": "code",
      "source": [
        "# Put data on the system device (Device Agnostic code for data)\n",
        "\n",
        "X_train = X_train.to(device)\n",
        "y_train = y_train.to(device)\n",
        "X_test = X_test.to(device)\n",
        "y_test = y_test.to(device)"
      ],
      "metadata": {
        "id": "1-P8hmlc5tAg"
      },
      "execution_count": null,
      "outputs": []
    },
    {
      "cell_type": "markdown",
      "source": [
        "#### Visualize our data"
      ],
      "metadata": {
        "id": "_tzPhXco6JOn"
      }
    },
    {
      "cell_type": "code",
      "source": [
        "def plot_predictions(train_data=torch.tensor(X_train).cpu().numpy(),\n",
        "                     train_labels=torch.tensor(y_train).cpu().numpy(),\n",
        "                     test_data=torch.tensor(X_test).cpu().numpy(),\n",
        "                     test_labels=torch.tensor(y_test).cpu().numpy(),\n",
        "                     predictions=None):\n",
        "    \"\"\"\n",
        "    Plots training data, test data and compares predictions.\n",
        "    \"\"\"\n",
        "    plt.figure(figsize=(10,7))\n",
        "\n",
        "    # Plot training data in blue\n",
        "    plt.scatter(train_data, train_labels, c=\"b\", s=10, label=\"Training data\")\n",
        "\n",
        "    # Plot test data in green\n",
        "    plt.scatter(test_data, test_labels, c='g', s=10, label=\"Testing data\")\n",
        "\n",
        "    # For Predictions\n",
        "    if predictions is not None:\n",
        "        plt.scatter(test_data, predictions, c='r', s=4, label='Predictions')\n",
        "\n",
        "    # Show legend\n",
        "    plt.legend(prop={'size': 14})\n"
      ],
      "metadata": {
        "id": "CnjpHc4C6NOb",
        "colab": {
          "base_uri": "https://localhost:8080/"
        },
        "outputId": "c17cb55a-1fcd-4353-afd2-4c5dc111b879"
      },
      "execution_count": null,
      "outputs": [
        {
          "output_type": "stream",
          "name": "stderr",
          "text": [
            "<ipython-input-12-7f034d3f4f6e>:1: UserWarning: To copy construct from a tensor, it is recommended to use sourceTensor.clone().detach() or sourceTensor.clone().detach().requires_grad_(True), rather than torch.tensor(sourceTensor).\n",
            "  def plot_predictions(train_data=torch.tensor(X_train).cpu().numpy(),\n",
            "<ipython-input-12-7f034d3f4f6e>:2: UserWarning: To copy construct from a tensor, it is recommended to use sourceTensor.clone().detach() or sourceTensor.clone().detach().requires_grad_(True), rather than torch.tensor(sourceTensor).\n",
            "  train_labels=torch.tensor(y_train).cpu().numpy(),\n",
            "<ipython-input-12-7f034d3f4f6e>:3: UserWarning: To copy construct from a tensor, it is recommended to use sourceTensor.clone().detach() or sourceTensor.clone().detach().requires_grad_(True), rather than torch.tensor(sourceTensor).\n",
            "  test_data=torch.tensor(X_test).cpu().numpy(),\n",
            "<ipython-input-12-7f034d3f4f6e>:4: UserWarning: To copy construct from a tensor, it is recommended to use sourceTensor.clone().detach() or sourceTensor.clone().detach().requires_grad_(True), rather than torch.tensor(sourceTensor).\n",
            "  test_labels=torch.tensor(y_test).cpu().numpy(),\n"
          ]
        }
      ]
    },
    {
      "cell_type": "code",
      "source": [
        "plot_predictions()"
      ],
      "metadata": {
        "colab": {
          "base_uri": "https://localhost:8080/",
          "height": 599
        },
        "id": "b_POF77q7r73",
        "outputId": "dacfcb3a-8027-4096-860f-4a64b6763a8e"
      },
      "execution_count": null,
      "outputs": [
        {
          "output_type": "display_data",
          "data": {
            "text/plain": [
              "<Figure size 1000x700 with 1 Axes>"
            ],
            "image/png": "[encoded data removed]"
          },
          "metadata": {}
        }
      ]
    },
    {
      "cell_type": "code",
      "source": [],
      "metadata": {
        "id": "TMs8VWRLLnPE"
      },
      "execution_count": null,
      "outputs": []
    },
    {
      "cell_type": "markdown",
      "source": [
        "### 2. Build Model"
      ],
      "metadata": {
        "id": "V6XnUARt7ujH"
      }
    },
    {
      "cell_type": "markdown",
      "source": [
        "#### PyTorch model building essentials\n",
        "https://pytorch.org/tutorials/beginner/ptcheat.html\n",
        "\n",
        "* torch.nn - contains all of the buildings for computational graphs (a neural network can be considered a computational graph)\n",
        "* torch.nn. Parameter - what parameters should our model try and learn, often a PyTorch layer from torch.nn will set these for us\n",
        "* torch.nn.Module - base class for all neural network modules. If we subclass it, we should override forward()\n",
        "* torch.optim - this is where the optimizers in PyTorch live, they will help with gradient descent\n",
        "* def forward() - All nn.Module subclasses require us to override forward(). This method defines what happens in the forward computation/propagation. When we call the model directly, the internal __call__ function is used. This function manages all registered hooks and calls forward afterwards. That's also the reason we should call the model directly, because otherwise our hooks might not work etc."
      ],
      "metadata": {
        "id": "cYdH7L4bQxsN"
      }
    },
    {
      "cell_type": "code",
      "source": [
        "# # Create Linear Regression model class\n",
        "# from torch import nn\n",
        "# class LinearRegressionModel(nn.Module): # almost everything in PyTorch inherits from nn.module. Base class for all neural networks.\n",
        "#     def __init__(self):\n",
        "#         super().__init__()\n",
        "#         self.weights = nn.Parameter(torch.randn(1, # start with random weights\n",
        "#                                                 requires_grad=True, # update weights to ideal weights for the model\n",
        "#                                                 dtype=torch.float)) # PyTorch default datatype\n",
        "#         self.bias = nn.Parameter(torch.randn(1,\n",
        "#                                             requires_grad=True,\n",
        "#                                             dtype=torch.float))\n",
        "\n",
        "#         # Forward method to define the computation in the model\n",
        "#     def forward(self, x: torch.Tensor) -> torch.Tensor: # \"x\" is the input/training data.\n",
        "#         return self.weights * x + self.bias # Linear regression formula"
      ],
      "metadata": {
        "id": "QcOg1fzXLmEP"
      },
      "execution_count": null,
      "outputs": []
    },
    {
      "cell_type": "markdown",
      "source": [
        "#### Checking the contents of our PyTorch model\n",
        "\n",
        "Now we've created a model, let's see what's inside it.\n",
        "\n",
        "So, we can check our model parameters or what's inside our model using`.parameters()`"
      ],
      "metadata": {
        "id": "OE5KxpUDQyry"
      }
    },
    {
      "cell_type": "code",
      "source": [
        "# # Create a random seed - to get reproducible results\n",
        "# torch.manual_seed(42)\n",
        "\n",
        "# # Create an instance of the model (this is a subclass of nn.module)\n",
        "# model_0 = LinearRegressionModel()\n",
        "\n",
        "# print(list(model_0.parameters()))\n",
        "\n",
        "# List named parameters\n",
        "# print(model_0.state_dict()) # This is going to give us our dictionary of the parameters of our model"
      ],
      "metadata": {
        "id": "ZlXm4FaoUHAy"
      },
      "execution_count": null,
      "outputs": []
    },
    {
      "cell_type": "code",
      "source": [
        "# Create a linear model by subclassing nn.Module\n",
        "\n",
        "class LinearRegressionModelV2(nn.Module):\n",
        "    def __init__(self):\n",
        "        super().__init__()\n",
        "        # Use nn.Linear() for creating the model parameters/ also called: linear transformation, probing layer, fully connected layer, dense layer\n",
        "        self.linear_layer = nn.Linear(in_features=1,\n",
        "                                      out_features=1)\n",
        "\n",
        "    def forward(self, x: torch.Tensor) -> torch.Tensor:\n",
        "        return self.linear_layer(x)\n",
        "\n",
        "# Set the manual seed\n",
        "torch.manual_seed(42)\n",
        "model_0 = LinearRegressionModelV2()\n",
        "model_0"
      ],
      "metadata": {
        "colab": {
          "base_uri": "https://localhost:8080/"
        },
        "id": "mLu4PlOKhVIC",
        "outputId": "b48bd5fa-c62c-4a6b-c04a-d28005e13a86"
      },
      "execution_count": null,
      "outputs": [
        {
          "output_type": "execute_result",
          "data": {
            "text/plain": [
              "LinearRegressionModelV2(\n",
              "  (linear_layer): Linear(in_features=1, out_features=1, bias=True)\n",
              ")"
            ]
          },
          "metadata": {},
          "execution_count": 16
        }
      ]
    },
    {
      "cell_type": "code",
      "source": [
        "# List named parameters\n",
        "model_0.state_dict() # This is going to give us our dictionary of the parameters of our model"
      ],
      "metadata": {
        "colab": {
          "base_uri": "https://localhost:8080/"
        },
        "id": "FuWfiV3yUkIV",
        "outputId": "7fb99e0d-d46e-4947-d83b-376c17d73764"
      },
      "execution_count": null,
      "outputs": [
        {
          "output_type": "execute_result",
          "data": {
            "text/plain": [
              "OrderedDict([('linear_layer.weight', tensor([[0.7645]])),\n",
              "             ('linear_layer.bias', tensor([0.8300]))])"
            ]
          },
          "metadata": {},
          "execution_count": 17
        }
      ]
    },
    {
      "cell_type": "code",
      "source": [
        "# Check the model current device\n",
        "next(model_0.parameters()).device"
      ],
      "metadata": {
        "colab": {
          "base_uri": "https://localhost:8080/"
        },
        "id": "JytO4Ce2jq5J",
        "outputId": "ea8def4e-c1d2-48ae-a40c-848da24e9b02"
      },
      "execution_count": null,
      "outputs": [
        {
          "output_type": "execute_result",
          "data": {
            "text/plain": [
              "device(type='cpu')"
            ]
          },
          "metadata": {},
          "execution_count": 18
        }
      ]
    },
    {
      "cell_type": "code",
      "source": [
        "# Set the model to use the system device (Device Agnostic code for model)\n",
        "model_0.to(device)\n",
        "next(model_0.parameters()).device"
      ],
      "metadata": {
        "colab": {
          "base_uri": "https://localhost:8080/"
        },
        "id": "cpx2psKtjrCB",
        "outputId": "7d4ed7bc-976c-4d06-cf6d-6a2472b72fc5"
      },
      "execution_count": null,
      "outputs": [
        {
          "output_type": "execute_result",
          "data": {
            "text/plain": [
              "device(type='cuda', index=0)"
            ]
          },
          "metadata": {},
          "execution_count": 19
        }
      ]
    },
    {
      "cell_type": "code",
      "source": [],
      "metadata": {
        "id": "-4w7uKq3jrSD"
      },
      "execution_count": null,
      "outputs": []
    },
    {
      "cell_type": "markdown",
      "source": [
        "#### Making Prediction using `torch.inference_mode()`\n",
        "\n",
        "To check our model's predictive power, let's see how well it predicts `y_test` based on `X_test`"
      ],
      "metadata": {
        "id": "sBCuxqpcVUwD"
      }
    },
    {
      "cell_type": "code",
      "source": [
        "# Make predictions with model\n",
        "with torch.inference_mode():\n",
        "    y_preds = model_0(X_test)\n",
        "\n",
        "# We can also do similar with torch.no_grad() but torch.inference_mode() is preferred and faster.\n",
        "# https://twitter.com/PyTorch/status/1437838231505096708?lang=en\n",
        "# with torch.no_grad():\n",
        "#     y_preds = model_0(X_test)\n",
        "\n",
        "y_preds"
      ],
      "metadata": {
        "colab": {
          "base_uri": "https://localhost:8080/"
        },
        "id": "gkT87CSXYri3",
        "outputId": "1b3ad59c-4a29-46e1-f03b-1ed392f111ac"
      },
      "execution_count": null,
      "outputs": [
        {
          "output_type": "execute_result",
          "data": {
            "text/plain": [
              "tensor([[1.4416],\n",
              "        [1.4569],\n",
              "        [1.4722],\n",
              "        [1.4875],\n",
              "        [1.5028],\n",
              "        [1.5181],\n",
              "        [1.5334],\n",
              "        [1.5487],\n",
              "        [1.5640],\n",
              "        [1.5793]], device='cuda:0')"
            ]
          },
          "metadata": {},
          "execution_count": 20
        }
      ]
    },
    {
      "cell_type": "code",
      "source": [
        "y_test"
      ],
      "metadata": {
        "colab": {
          "base_uri": "https://localhost:8080/"
        },
        "id": "Pvc0y_vrZJgg",
        "outputId": "f1f22e2b-0e27-4e8e-985b-5545c155e01b"
      },
      "execution_count": null,
      "outputs": [
        {
          "output_type": "execute_result",
          "data": {
            "text/plain": [
              "tensor([[0.8600],\n",
              "        [0.8740],\n",
              "        [0.8880],\n",
              "        [0.9020],\n",
              "        [0.9160],\n",
              "        [0.9300],\n",
              "        [0.9440],\n",
              "        [0.9580],\n",
              "        [0.9720],\n",
              "        [0.9860]], device='cuda:0')"
            ]
          },
          "metadata": {},
          "execution_count": 21
        }
      ]
    },
    {
      "cell_type": "code",
      "source": [
        "plot_predictions(predictions=torch.tensor(y_preds).cpu().numpy())"
      ],
      "metadata": {
        "colab": {
          "base_uri": "https://localhost:8080/",
          "height": 654
        },
        "id": "F_uJRXVZZ5kg",
        "outputId": "668fac4a-1d9d-41b0-d63b-9a128995d20b"
      },
      "execution_count": null,
      "outputs": [
        {
          "output_type": "stream",
          "name": "stderr",
          "text": [
            "<ipython-input-22-38d4ae76050c>:1: UserWarning: To copy construct from a tensor, it is recommended to use sourceTensor.clone().detach() or sourceTensor.clone().detach().requires_grad_(True), rather than torch.tensor(sourceTensor).\n",
            "  plot_predictions(predictions=torch.tensor(y_preds).cpu().numpy())\n"
          ]
        },
        {
          "output_type": "display_data",
          "data": {
            "text/plain": [
              "<Figure size 1000x700 with 1 Axes>"
            ],
            "image/png": "[encoded data removed]"
          },
          "metadata": {}
        }
      ]
    },
    {
      "cell_type": "code",
      "source": [],
      "metadata": {
        "id": "M0Jsa8Z0aIKL"
      },
      "execution_count": null,
      "outputs": []
    },
    {
      "cell_type": "markdown",
      "source": [
        "### 3. Train model (fitting the model to data)\n",
        "\n",
        "The whole idea of training a model is to move from poor representation of the data to a beter representation of the data.\n",
        "\n",
        "One way to meausre how poor or how wrong out model predictions are is to use\n",
        "a loss function.\n",
        "\n",
        "* Note: Loss function may also be called cost function or criterion in different areas. For our case, we are going to refer to it as a loss function.\n",
        "\n",
        "Things we need to train:\n",
        "\n",
        "* **Loss Function:** A function to measure how wrong our model's predictions are to the ideal outputs, lower is better.\n",
        "* **Optimizer:** Takes into account the loss of a model and adjusts the model's parameters (e.g. weight & bias) to improve the loss function.\n",
        "    * Inside the optimizer we'll often have to set the two parameters:\n",
        "        * `params` - the model parameters we'd like to optimize, for example params=model_0.parameters()\n",
        "        * `lr`(learning rate) - the learning rate is a hyperparameter that defines how big/small the optimizer changes the parameters with each step (a small `lr` results in small changes, a large `lr` results in large changes)\n",
        "\n",
        "And specifically in PyTorch, we need:\n",
        "\n",
        "* A training loop\n",
        "* A testing loop"
      ],
      "metadata": {
        "id": "dBqpfs0qco1z"
      }
    },
    {
      "cell_type": "code",
      "source": [
        " # Our model's parameters (a parameter is a value that the model sets itself)\n",
        " model_0.state_dict()"
      ],
      "metadata": {
        "colab": {
          "base_uri": "https://localhost:8080/"
        },
        "id": "JRZPjFU4dExi",
        "outputId": "cccde602-3142-4420-ef38-245133e7b77b"
      },
      "execution_count": null,
      "outputs": [
        {
          "output_type": "execute_result",
          "data": {
            "text/plain": [
              "OrderedDict([('linear_layer.weight', tensor([[0.7645]], device='cuda:0')),\n",
              "             ('linear_layer.bias', tensor([0.8300], device='cuda:0'))])"
            ]
          },
          "metadata": {},
          "execution_count": 23
        }
      ]
    },
    {
      "cell_type": "code",
      "source": [
        "# Setup a loss function\n",
        "loss_fn = nn.L1Loss()\n",
        "\n",
        "# Setup an optimizer (stochastic gradient descent)\n",
        "optimizer = torch.optim.SGD(params=model_0.parameters(),\n",
        "                            lr=0.015) # learning rate"
      ],
      "metadata": {
        "id": "uSiujLL0eoKI"
      },
      "execution_count": null,
      "outputs": []
    },
    {
      "cell_type": "code",
      "source": [],
      "metadata": {
        "id": "OoQAc0diNtoz"
      },
      "execution_count": null,
      "outputs": []
    },
    {
      "cell_type": "markdown",
      "source": [
        "#### Building a training loop (and a testing loop) in PyTorch\n",
        "\n",
        "A couple of things we need in a training loop:\n",
        "\n",
        "0. Loop through the data\n",
        "1. Forward pass (**Forward Propoagation**) - to make predictions on data\n",
        " (this involves data moving through our model's forward() functions)\n",
        "2. Calculate the loss\n",
        "3. Optimizer zero grad\n",
        "4. Loss Backward (**Backward Propagation**) - move backwards throught the network to calculate/compute the\n",
        "  gradients of each of the paramenetrs of our model (requires_grad=True) with respect to the loss\n",
        "5. Optimizer step (**Gradient Descent**) - use thie optimizer to adjust our model's parameters with respect to the gradients calculates by `loss.backward()` to try and improve the loss"
      ],
      "metadata": {
        "id": "IDHDrwK4NubI"
      }
    },
    {
      "cell_type": "code",
      "source": [
        "torch.manual_seed(42)\n",
        "# An epoch is one loop through the data... (this is a hyperparameters)\n",
        "epochs = 100\n",
        "\n",
        "# Put data on the system device (Device Agnostic code for data)\n",
        "\n",
        "X_train = X_train.to(device)\n",
        "y_train = y_train.to(device)\n",
        "X_test = X_test.to(device)\n",
        "y_test = y_test.to(device)\n",
        "\n",
        "# Track different values\n",
        "epoch_count = []\n",
        "train_loss_values = []\n",
        "test_loss_values = []\n",
        "\n",
        "### Training\n",
        "# 0. Loop through the data\n",
        "for epoch in range(epochs):\n",
        "    # Set the model to training mode\n",
        "    model_0.train() # train mode in PyTorch sets all parameters that require gradients to require gradients\n",
        "\n",
        "    # 1. Forward Pass\n",
        "    y_pred = model_0(X_train)\n",
        "\n",
        "    # 2. Calculate the loss\n",
        "    loss = loss_fn(y_pred, y_train)\n",
        "    # print(f\"Loss: {loss}\")\n",
        "\n",
        "    # 3. Optimizer zero grad ( Check comment at step 5 below to understand it)\n",
        "    '''\n",
        "    Before performing backpropagation, you need to clear the gradients of all the parameters in the model.\n",
        "    Gradients in PyTorch accumulate by default (i.e., they are added to existing gradients during each pass).\n",
        "    If you don't clear the gradients, they will sum up across iterations, which will lead to incorrect updates.\n",
        "    '''\n",
        "    optimizer.zero_grad()\n",
        "\n",
        "    # 4. Perform Backpropagation on the loss with respect to the parameters of the model\n",
        "    '''\n",
        "    This computes the gradients of the loss function with respect to all parameters in the model that have requires_grad=True.\n",
        "    PyTorch uses autograd to automatically calculate these gradients based on the computational graph formed during the forward\n",
        "    pass.\n",
        "    '''\n",
        "    loss.backward()\n",
        "\n",
        "    # 5. Step the optimizer (perform gradient descent)\n",
        "    '''\n",
        "    What it does: This step updates the model's parameters using the gradients computed during loss.backward() and\n",
        "    the optimization algorithm (e.g., SGD, Adam, etc.) you defined. Here, we defined SGD.\n",
        "\n",
        "    Why it's necessary: Once the gradients are computed, they need to be applied to the model's parameters to adjust them\n",
        "    in the direction that reduces the loss. The optimizer handles this process.\n",
        "    '''\n",
        "    optimizer.step() # by default how the optimizer changes will accumulate through the loop so... we have to zero them above in step 3 for the next iteration of the loop.\n",
        "\n",
        "    ### Testing\n",
        "    model_0.eval() # turns off different settings in the model not needed for evaluation/testing (dropout/batch norm layers)\n",
        "    with torch.inference_mode(): # turns off gradient tracking and a couple more things behind the scenes\n",
        "    # with torch.no_grad(): # In older PyTorch code, it was used to find inference.\n",
        "\n",
        "        # 1. Do the forward pass\n",
        "        test_pred = model_0(X_test)\n",
        "\n",
        "        # 2. Calculate the loss\n",
        "        test_loss = loss_fn(test_pred, y_test)\n",
        "\n",
        "    print(\"Let's see what's happening here...\")\n",
        "    print(f\"Epoch: {epoch} | Loss: {loss} | Test loss: {test_loss}\")\n",
        "\n",
        "    epoch_count.append(epoch)\n",
        "    train_loss_values.append(loss)\n",
        "    test_loss_values.append(test_loss)\n",
        "\n",
        "    print(model_0.state_dict())"
      ],
      "metadata": {
        "id": "VHfuHe6lNuh7",
        "colab": {
          "base_uri": "https://localhost:8080/"
        },
        "outputId": "98581e73-7570-4e7d-a9d0-392d35445170"
      },
      "execution_count": null,
      "outputs": [
        {
          "output_type": "stream",
          "name": "stdout",
          "text": [
            "Let's see what's happening here...\n",
            "Epoch: 0 | Loss: 0.010365366004407406 | Test loss: 0.013549727387726307\n",
            "OrderedDict([('linear_layer.weight', tensor([[0.6867]], device='cuda:0')), ('linear_layer.bias', tensor([0.2983], device='cuda:0'))])\n",
            "Let's see what's happening here...\n",
            "Epoch: 1 | Loss: 0.006916131358593702 | Test loss: 0.006656759884208441\n",
            "OrderedDict([('linear_layer.weight', tensor([[0.6926]], device='cuda:0')), ('linear_layer.bias', tensor([0.3133], device='cuda:0'))])\n",
            "Let's see what's happening here...\n",
            "Epoch: 2 | Loss: 0.010365366004407406 | Test loss: 0.013549727387726307\n",
            "OrderedDict([('linear_layer.weight', tensor([[0.6867]], device='cuda:0')), ('linear_layer.bias', tensor([0.2983], device='cuda:0'))])\n",
            "Let's see what's happening here...\n",
            "Epoch: 3 | Loss: 0.006916131358593702 | Test loss: 0.006656759884208441\n",
            "OrderedDict([('linear_layer.weight', tensor([[0.6926]], device='cuda:0')), ('linear_layer.bias', tensor([0.3133], device='cuda:0'))])\n",
            "Let's see what's happening here...\n",
            "Epoch: 4 | Loss: 0.010365366004407406 | Test loss: 0.013549727387726307\n",
            "OrderedDict([('linear_layer.weight', tensor([[0.6867]], device='cuda:0')), ('linear_layer.bias', tensor([0.2983], device='cuda:0'))])\n",
            "Let's see what's happening here...\n",
            "Epoch: 5 | Loss: 0.006916131358593702 | Test loss: 0.006656759884208441\n",
            "OrderedDict([('linear_layer.weight', tensor([[0.6926]], device='cuda:0')), ('linear_layer.bias', tensor([0.3133], device='cuda:0'))])\n",
            "Let's see what's happening here...\n",
            "Epoch: 6 | Loss: 0.010365366004407406 | Test loss: 0.013549727387726307\n",
            "OrderedDict([('linear_layer.weight', tensor([[0.6867]], device='cuda:0')), ('linear_layer.bias', tensor([0.2983], device='cuda:0'))])\n",
            "Let's see what's happening here...\n",
            "Epoch: 7 | Loss: 0.006916131358593702 | Test loss: 0.006656759884208441\n",
            "OrderedDict([('linear_layer.weight', tensor([[0.6926]], device='cuda:0')), ('linear_layer.bias', tensor([0.3133], device='cuda:0'))])\n",
            "Let's see what's happening here...\n",
            "Epoch: 8 | Loss: 0.010365366004407406 | Test loss: 0.013549727387726307\n",
            "OrderedDict([('linear_layer.weight', tensor([[0.6867]], device='cuda:0')), ('linear_layer.bias', tensor([0.2983], device='cuda:0'))])\n",
            "Let's see what's happening here...\n",
            "Epoch: 9 | Loss: 0.006916131358593702 | Test loss: 0.006656759884208441\n",
            "OrderedDict([('linear_layer.weight', tensor([[0.6926]], device='cuda:0')), ('linear_layer.bias', tensor([0.3133], device='cuda:0'))])\n",
            "Let's see what's happening here...\n",
            "Epoch: 10 | Loss: 0.010365366004407406 | Test loss: 0.013549727387726307\n",
            "OrderedDict([('linear_layer.weight', tensor([[0.6867]], device='cuda:0')), ('linear_layer.bias', tensor([0.2983], device='cuda:0'))])\n",
            "Let's see what's happening here...\n",
            "Epoch: 11 | Loss: 0.006916131358593702 | Test loss: 0.006656759884208441\n",
            "OrderedDict([('linear_layer.weight', tensor([[0.6926]], device='cuda:0')), ('linear_layer.bias', tensor([0.3133], device='cuda:0'))])\n",
            "Let's see what's happening here...\n",
            "Epoch: 12 | Loss: 0.010365366004407406 | Test loss: 0.013549727387726307\n",
            "OrderedDict([('linear_layer.weight', tensor([[0.6867]], device='cuda:0')), ('linear_layer.bias', tensor([0.2983], device='cuda:0'))])\n",
            "Let's see what's happening here...\n",
            "Epoch: 13 | Loss: 0.006916131358593702 | Test loss: 0.006656759884208441\n",
            "OrderedDict([('linear_layer.weight', tensor([[0.6926]], device='cuda:0')), ('linear_layer.bias', tensor([0.3133], device='cuda:0'))])\n",
            "Let's see what's happening here...\n",
            "Epoch: 14 | Loss: 0.010365366004407406 | Test loss: 0.013549727387726307\n",
            "OrderedDict([('linear_layer.weight', tensor([[0.6867]], device='cuda:0')), ('linear_layer.bias', tensor([0.2983], device='cuda:0'))])\n",
            "Let's see what's happening here...\n",
            "Epoch: 15 | Loss: 0.006916131358593702 | Test loss: 0.006656759884208441\n",
            "OrderedDict([('linear_layer.weight', tensor([[0.6926]], device='cuda:0')), ('linear_layer.bias', tensor([0.3133], device='cuda:0'))])\n",
            "Let's see what's happening here...\n",
            "Epoch: 16 | Loss: 0.010365366004407406 | Test loss: 0.013549727387726307\n",
            "OrderedDict([('linear_layer.weight', tensor([[0.6867]], device='cuda:0')), ('linear_layer.bias', tensor([0.2983], device='cuda:0'))])\n",
            "Let's see what's happening here...\n",
            "Epoch: 17 | Loss: 0.006916131358593702 | Test loss: 0.006656759884208441\n",
            "OrderedDict([('linear_layer.weight', tensor([[0.6926]], device='cuda:0')), ('linear_layer.bias', tensor([0.3133], device='cuda:0'))])\n",
            "Let's see what's happening here...\n",
            "Epoch: 18 | Loss: 0.010365366004407406 | Test loss: 0.013549727387726307\n",
            "OrderedDict([('linear_layer.weight', tensor([[0.6867]], device='cuda:0')), ('linear_layer.bias', tensor([0.2983], device='cuda:0'))])\n",
            "Let's see what's happening here...\n",
            "Epoch: 19 | Loss: 0.006916131358593702 | Test loss: 0.006656759884208441\n",
            "OrderedDict([('linear_layer.weight', tensor([[0.6926]], device='cuda:0')), ('linear_layer.bias', tensor([0.3133], device='cuda:0'))])\n",
            "Let's see what's happening here...\n",
            "Epoch: 20 | Loss: 0.010365366004407406 | Test loss: 0.013549727387726307\n",
            "OrderedDict([('linear_layer.weight', tensor([[0.6867]], device='cuda:0')), ('linear_layer.bias', tensor([0.2983], device='cuda:0'))])\n",
            "Let's see what's happening here...\n",
            "Epoch: 21 | Loss: 0.006916131358593702 | Test loss: 0.006656759884208441\n",
            "OrderedDict([('linear_layer.weight', tensor([[0.6926]], device='cuda:0')), ('linear_layer.bias', tensor([0.3133], device='cuda:0'))])\n",
            "Let's see what's happening here...\n",
            "Epoch: 22 | Loss: 0.010365366004407406 | Test loss: 0.013549727387726307\n",
            "OrderedDict([('linear_layer.weight', tensor([[0.6867]], device='cuda:0')), ('linear_layer.bias', tensor([0.2983], device='cuda:0'))])\n",
            "Let's see what's happening here...\n",
            "Epoch: 23 | Loss: 0.006916131358593702 | Test loss: 0.006656759884208441\n",
            "OrderedDict([('linear_layer.weight', tensor([[0.6926]], device='cuda:0')), ('linear_layer.bias', tensor([0.3133], device='cuda:0'))])\n",
            "Let's see what's happening here...\n",
            "Epoch: 24 | Loss: 0.010365366004407406 | Test loss: 0.013549727387726307\n",
            "OrderedDict([('linear_layer.weight', tensor([[0.6867]], device='cuda:0')), ('linear_layer.bias', tensor([0.2983], device='cuda:0'))])\n",
            "Let's see what's happening here...\n",
            "Epoch: 25 | Loss: 0.006916131358593702 | Test loss: 0.006656759884208441\n",
            "OrderedDict([('linear_layer.weight', tensor([[0.6926]], device='cuda:0')), ('linear_layer.bias', tensor([0.3133], device='cuda:0'))])\n",
            "Let's see what's happening here...\n",
            "Epoch: 26 | Loss: 0.010365366004407406 | Test loss: 0.013549727387726307\n",
            "OrderedDict([('linear_layer.weight', tensor([[0.6867]], device='cuda:0')), ('linear_layer.bias', tensor([0.2983], device='cuda:0'))])\n",
            "Let's see what's happening here...\n",
            "Epoch: 27 | Loss: 0.006916131358593702 | Test loss: 0.006656759884208441\n",
            "OrderedDict([('linear_layer.weight', tensor([[0.6926]], device='cuda:0')), ('linear_layer.bias', tensor([0.3133], device='cuda:0'))])\n",
            "Let's see what's happening here...\n",
            "Epoch: 28 | Loss: 0.010365366004407406 | Test loss: 0.013549727387726307\n",
            "OrderedDict([('linear_layer.weight', tensor([[0.6867]], device='cuda:0')), ('linear_layer.bias', tensor([0.2983], device='cuda:0'))])\n",
            "Let's see what's happening here...\n",
            "Epoch: 29 | Loss: 0.006916131358593702 | Test loss: 0.006656759884208441\n",
            "OrderedDict([('linear_layer.weight', tensor([[0.6926]], device='cuda:0')), ('linear_layer.bias', tensor([0.3133], device='cuda:0'))])\n",
            "Let's see what's happening here...\n",
            "Epoch: 30 | Loss: 0.010365366004407406 | Test loss: 0.013549727387726307\n",
            "OrderedDict([('linear_layer.weight', tensor([[0.6867]], device='cuda:0')), ('linear_layer.bias', tensor([0.2983], device='cuda:0'))])\n",
            "Let's see what's happening here...\n",
            "Epoch: 31 | Loss: 0.006916131358593702 | Test loss: 0.006656759884208441\n",
            "OrderedDict([('linear_layer.weight', tensor([[0.6926]], device='cuda:0')), ('linear_layer.bias', tensor([0.3133], device='cuda:0'))])\n",
            "Let's see what's happening here...\n",
            "Epoch: 32 | Loss: 0.010365366004407406 | Test loss: 0.013549727387726307\n",
            "OrderedDict([('linear_layer.weight', tensor([[0.6867]], device='cuda:0')), ('linear_layer.bias', tensor([0.2983], device='cuda:0'))])\n",
            "Let's see what's happening here...\n",
            "Epoch: 33 | Loss: 0.006916131358593702 | Test loss: 0.006656759884208441\n",
            "OrderedDict([('linear_layer.weight', tensor([[0.6926]], device='cuda:0')), ('linear_layer.bias', tensor([0.3133], device='cuda:0'))])\n",
            "Let's see what's happening here...\n",
            "Epoch: 34 | Loss: 0.010365366004407406 | Test loss: 0.013549727387726307\n",
            "OrderedDict([('linear_layer.weight', tensor([[0.6867]], device='cuda:0')), ('linear_layer.bias', tensor([0.2983], device='cuda:0'))])\n",
            "Let's see what's happening here...\n",
            "Epoch: 35 | Loss: 0.006916131358593702 | Test loss: 0.006656759884208441\n",
            "OrderedDict([('linear_layer.weight', tensor([[0.6926]], device='cuda:0')), ('linear_layer.bias', tensor([0.3133], device='cuda:0'))])\n",
            "Let's see what's happening here...\n",
            "Epoch: 36 | Loss: 0.010365366004407406 | Test loss: 0.013549727387726307\n",
            "OrderedDict([('linear_layer.weight', tensor([[0.6867]], device='cuda:0')), ('linear_layer.bias', tensor([0.2983], device='cuda:0'))])\n",
            "Let's see what's happening here...\n",
            "Epoch: 37 | Loss: 0.006916131358593702 | Test loss: 0.006656759884208441\n",
            "OrderedDict([('linear_layer.weight', tensor([[0.6926]], device='cuda:0')), ('linear_layer.bias', tensor([0.3133], device='cuda:0'))])\n",
            "Let's see what's happening here...\n",
            "Epoch: 38 | Loss: 0.010365366004407406 | Test loss: 0.013549727387726307\n",
            "OrderedDict([('linear_layer.weight', tensor([[0.6867]], device='cuda:0')), ('linear_layer.bias', tensor([0.2983], device='cuda:0'))])\n",
            "Let's see what's happening here...\n",
            "Epoch: 39 | Loss: 0.006916131358593702 | Test loss: 0.006656759884208441\n",
            "OrderedDict([('linear_layer.weight', tensor([[0.6926]], device='cuda:0')), ('linear_layer.bias', tensor([0.3133], device='cuda:0'))])\n",
            "Let's see what's happening here...\n",
            "Epoch: 40 | Loss: 0.010365366004407406 | Test loss: 0.013549727387726307\n",
            "OrderedDict([('linear_layer.weight', tensor([[0.6867]], device='cuda:0')), ('linear_layer.bias', tensor([0.2983], device='cuda:0'))])\n",
            "Let's see what's happening here...\n",
            "Epoch: 41 | Loss: 0.006916131358593702 | Test loss: 0.006656759884208441\n",
            "OrderedDict([('linear_layer.weight', tensor([[0.6926]], device='cuda:0')), ('linear_layer.bias', tensor([0.3133], device='cuda:0'))])\n",
            "Let's see what's happening here...\n",
            "Epoch: 42 | Loss: 0.010365366004407406 | Test loss: 0.013549727387726307\n",
            "OrderedDict([('linear_layer.weight', tensor([[0.6867]], device='cuda:0')), ('linear_layer.bias', tensor([0.2983], device='cuda:0'))])\n",
            "Let's see what's happening here...\n",
            "Epoch: 43 | Loss: 0.006916131358593702 | Test loss: 0.006656759884208441\n",
            "OrderedDict([('linear_layer.weight', tensor([[0.6926]], device='cuda:0')), ('linear_layer.bias', tensor([0.3133], device='cuda:0'))])\n",
            "Let's see what's happening here...\n",
            "Epoch: 44 | Loss: 0.010365366004407406 | Test loss: 0.013549727387726307\n",
            "OrderedDict([('linear_layer.weight', tensor([[0.6867]], device='cuda:0')), ('linear_layer.bias', tensor([0.2983], device='cuda:0'))])\n",
            "Let's see what's happening here...\n",
            "Epoch: 45 | Loss: 0.006916131358593702 | Test loss: 0.006656759884208441\n",
            "OrderedDict([('linear_layer.weight', tensor([[0.6926]], device='cuda:0')), ('linear_layer.bias', tensor([0.3133], device='cuda:0'))])\n",
            "Let's see what's happening here...\n",
            "Epoch: 46 | Loss: 0.010365366004407406 | Test loss: 0.013549727387726307\n",
            "OrderedDict([('linear_layer.weight', tensor([[0.6867]], device='cuda:0')), ('linear_layer.bias', tensor([0.2983], device='cuda:0'))])\n",
            "Let's see what's happening here...\n",
            "Epoch: 47 | Loss: 0.006916131358593702 | Test loss: 0.006656759884208441\n",
            "OrderedDict([('linear_layer.weight', tensor([[0.6926]], device='cuda:0')), ('linear_layer.bias', tensor([0.3133], device='cuda:0'))])\n",
            "Let's see what's happening here...\n",
            "Epoch: 48 | Loss: 0.010365366004407406 | Test loss: 0.013549727387726307\n",
            "OrderedDict([('linear_layer.weight', tensor([[0.6867]], device='cuda:0')), ('linear_layer.bias', tensor([0.2983], device='cuda:0'))])\n",
            "Let's see what's happening here...\n",
            "Epoch: 49 | Loss: 0.006916131358593702 | Test loss: 0.006656759884208441\n",
            "OrderedDict([('linear_layer.weight', tensor([[0.6926]], device='cuda:0')), ('linear_layer.bias', tensor([0.3133], device='cuda:0'))])\n",
            "Let's see what's happening here...\n",
            "Epoch: 50 | Loss: 0.010365366004407406 | Test loss: 0.013549727387726307\n",
            "OrderedDict([('linear_layer.weight', tensor([[0.6867]], device='cuda:0')), ('linear_layer.bias', tensor([0.2983], device='cuda:0'))])\n",
            "Let's see what's happening here...\n",
            "Epoch: 51 | Loss: 0.006916131358593702 | Test loss: 0.006656759884208441\n",
            "OrderedDict([('linear_layer.weight', tensor([[0.6926]], device='cuda:0')), ('linear_layer.bias', tensor([0.3133], device='cuda:0'))])\n",
            "Let's see what's happening here...\n",
            "Epoch: 52 | Loss: 0.010365366004407406 | Test loss: 0.013549727387726307\n",
            "OrderedDict([('linear_layer.weight', tensor([[0.6867]], device='cuda:0')), ('linear_layer.bias', tensor([0.2983], device='cuda:0'))])\n",
            "Let's see what's happening here...\n",
            "Epoch: 53 | Loss: 0.006916131358593702 | Test loss: 0.006656759884208441\n",
            "OrderedDict([('linear_layer.weight', tensor([[0.6926]], device='cuda:0')), ('linear_layer.bias', tensor([0.3133], device='cuda:0'))])\n",
            "Let's see what's happening here...\n",
            "Epoch: 54 | Loss: 0.010365366004407406 | Test loss: 0.013549727387726307\n",
            "OrderedDict([('linear_layer.weight', tensor([[0.6867]], device='cuda:0')), ('linear_layer.bias', tensor([0.2983], device='cuda:0'))])\n",
            "Let's see what's happening here...\n",
            "Epoch: 55 | Loss: 0.006916131358593702 | Test loss: 0.006656759884208441\n",
            "OrderedDict([('linear_layer.weight', tensor([[0.6926]], device='cuda:0')), ('linear_layer.bias', tensor([0.3133], device='cuda:0'))])\n",
            "Let's see what's happening here...\n",
            "Epoch: 56 | Loss: 0.010365366004407406 | Test loss: 0.013549727387726307\n",
            "OrderedDict([('linear_layer.weight', tensor([[0.6867]], device='cuda:0')), ('linear_layer.bias', tensor([0.2983], device='cuda:0'))])\n",
            "Let's see what's happening here...\n",
            "Epoch: 57 | Loss: 0.006916131358593702 | Test loss: 0.006656759884208441\n",
            "OrderedDict([('linear_layer.weight', tensor([[0.6926]], device='cuda:0')), ('linear_layer.bias', tensor([0.3133], device='cuda:0'))])\n",
            "Let's see what's happening here...\n",
            "Epoch: 58 | Loss: 0.010365366004407406 | Test loss: 0.013549727387726307\n",
            "OrderedDict([('linear_layer.weight', tensor([[0.6867]], device='cuda:0')), ('linear_layer.bias', tensor([0.2983], device='cuda:0'))])\n",
            "Let's see what's happening here...\n",
            "Epoch: 59 | Loss: 0.006916131358593702 | Test loss: 0.006656759884208441\n",
            "OrderedDict([('linear_layer.weight', tensor([[0.6926]], device='cuda:0')), ('linear_layer.bias', tensor([0.3133], device='cuda:0'))])\n",
            "Let's see what's happening here...\n",
            "Epoch: 60 | Loss: 0.010365366004407406 | Test loss: 0.013549727387726307\n",
            "OrderedDict([('linear_layer.weight', tensor([[0.6867]], device='cuda:0')), ('linear_layer.bias', tensor([0.2983], device='cuda:0'))])\n",
            "Let's see what's happening here...\n",
            "Epoch: 61 | Loss: 0.006916131358593702 | Test loss: 0.006656759884208441\n",
            "OrderedDict([('linear_layer.weight', tensor([[0.6926]], device='cuda:0')), ('linear_layer.bias', tensor([0.3133], device='cuda:0'))])\n",
            "Let's see what's happening here...\n",
            "Epoch: 62 | Loss: 0.010365366004407406 | Test loss: 0.013549727387726307\n",
            "OrderedDict([('linear_layer.weight', tensor([[0.6867]], device='cuda:0')), ('linear_layer.bias', tensor([0.2983], device='cuda:0'))])\n",
            "Let's see what's happening here...\n",
            "Epoch: 63 | Loss: 0.006916131358593702 | Test loss: 0.006656759884208441\n",
            "OrderedDict([('linear_layer.weight', tensor([[0.6926]], device='cuda:0')), ('linear_layer.bias', tensor([0.3133], device='cuda:0'))])\n",
            "Let's see what's happening here...\n",
            "Epoch: 64 | Loss: 0.010365366004407406 | Test loss: 0.013549727387726307\n",
            "OrderedDict([('linear_layer.weight', tensor([[0.6867]], device='cuda:0')), ('linear_layer.bias', tensor([0.2983], device='cuda:0'))])\n",
            "Let's see what's happening here...\n",
            "Epoch: 65 | Loss: 0.006916131358593702 | Test loss: 0.006656759884208441\n",
            "OrderedDict([('linear_layer.weight', tensor([[0.6926]], device='cuda:0')), ('linear_layer.bias', tensor([0.3133], device='cuda:0'))])\n",
            "Let's see what's happening here...\n",
            "Epoch: 66 | Loss: 0.010365366004407406 | Test loss: 0.013549727387726307\n",
            "OrderedDict([('linear_layer.weight', tensor([[0.6867]], device='cuda:0')), ('linear_layer.bias', tensor([0.2983], device='cuda:0'))])\n",
            "Let's see what's happening here...\n",
            "Epoch: 67 | Loss: 0.006916131358593702 | Test loss: 0.006656759884208441\n",
            "OrderedDict([('linear_layer.weight', tensor([[0.6926]], device='cuda:0')), ('linear_layer.bias', tensor([0.3133], device='cuda:0'))])\n",
            "Let's see what's happening here...\n",
            "Epoch: 68 | Loss: 0.010365366004407406 | Test loss: 0.013549727387726307\n",
            "OrderedDict([('linear_layer.weight', tensor([[0.6867]], device='cuda:0')), ('linear_layer.bias', tensor([0.2983], device='cuda:0'))])\n",
            "Let's see what's happening here...\n",
            "Epoch: 69 | Loss: 0.006916131358593702 | Test loss: 0.006656759884208441\n",
            "OrderedDict([('linear_layer.weight', tensor([[0.6926]], device='cuda:0')), ('linear_layer.bias', tensor([0.3133], device='cuda:0'))])\n",
            "Let's see what's happening here...\n",
            "Epoch: 70 | Loss: 0.010365366004407406 | Test loss: 0.013549727387726307\n",
            "OrderedDict([('linear_layer.weight', tensor([[0.6867]], device='cuda:0')), ('linear_layer.bias', tensor([0.2983], device='cuda:0'))])\n",
            "Let's see what's happening here...\n",
            "Epoch: 71 | Loss: 0.006916131358593702 | Test loss: 0.006656759884208441\n",
            "OrderedDict([('linear_layer.weight', tensor([[0.6926]], device='cuda:0')), ('linear_layer.bias', tensor([0.3133], device='cuda:0'))])\n",
            "Let's see what's happening here...\n",
            "Epoch: 72 | Loss: 0.010365366004407406 | Test loss: 0.013549727387726307\n",
            "OrderedDict([('linear_layer.weight', tensor([[0.6867]], device='cuda:0')), ('linear_layer.bias', tensor([0.2983], device='cuda:0'))])\n",
            "Let's see what's happening here...\n",
            "Epoch: 73 | Loss: 0.006916131358593702 | Test loss: 0.006656759884208441\n",
            "OrderedDict([('linear_layer.weight', tensor([[0.6926]], device='cuda:0')), ('linear_layer.bias', tensor([0.3133], device='cuda:0'))])\n",
            "Let's see what's happening here...\n",
            "Epoch: 74 | Loss: 0.010365366004407406 | Test loss: 0.013549727387726307\n",
            "OrderedDict([('linear_layer.weight', tensor([[0.6867]], device='cuda:0')), ('linear_layer.bias', tensor([0.2983], device='cuda:0'))])\n",
            "Let's see what's happening here...\n",
            "Epoch: 75 | Loss: 0.006916131358593702 | Test loss: 0.006656759884208441\n",
            "OrderedDict([('linear_layer.weight', tensor([[0.6926]], device='cuda:0')), ('linear_layer.bias', tensor([0.3133], device='cuda:0'))])\n",
            "Let's see what's happening here...\n",
            "Epoch: 76 | Loss: 0.010365366004407406 | Test loss: 0.013549727387726307\n",
            "OrderedDict([('linear_layer.weight', tensor([[0.6867]], device='cuda:0')), ('linear_layer.bias', tensor([0.2983], device='cuda:0'))])\n",
            "Let's see what's happening here...\n",
            "Epoch: 77 | Loss: 0.006916131358593702 | Test loss: 0.006656759884208441\n",
            "OrderedDict([('linear_layer.weight', tensor([[0.6926]], device='cuda:0')), ('linear_layer.bias', tensor([0.3133], device='cuda:0'))])\n",
            "Let's see what's happening here...\n",
            "Epoch: 78 | Loss: 0.010365366004407406 | Test loss: 0.013549727387726307\n",
            "OrderedDict([('linear_layer.weight', tensor([[0.6867]], device='cuda:0')), ('linear_layer.bias', tensor([0.2983], device='cuda:0'))])\n",
            "Let's see what's happening here...\n",
            "Epoch: 79 | Loss: 0.006916131358593702 | Test loss: 0.006656759884208441\n",
            "OrderedDict([('linear_layer.weight', tensor([[0.6926]], device='cuda:0')), ('linear_layer.bias', tensor([0.3133], device='cuda:0'))])\n",
            "Let's see what's happening here...\n",
            "Epoch: 80 | Loss: 0.010365366004407406 | Test loss: 0.013549727387726307\n",
            "OrderedDict([('linear_layer.weight', tensor([[0.6867]], device='cuda:0')), ('linear_layer.bias', tensor([0.2983], device='cuda:0'))])\n",
            "Let's see what's happening here...\n",
            "Epoch: 81 | Loss: 0.006916131358593702 | Test loss: 0.006656759884208441\n",
            "OrderedDict([('linear_layer.weight', tensor([[0.6926]], device='cuda:0')), ('linear_layer.bias', tensor([0.3133], device='cuda:0'))])\n",
            "Let's see what's happening here...\n",
            "Epoch: 82 | Loss: 0.010365366004407406 | Test loss: 0.013549727387726307\n",
            "OrderedDict([('linear_layer.weight', tensor([[0.6867]], device='cuda:0')), ('linear_layer.bias', tensor([0.2983], device='cuda:0'))])\n",
            "Let's see what's happening here...\n",
            "Epoch: 83 | Loss: 0.006916131358593702 | Test loss: 0.006656759884208441\n",
            "OrderedDict([('linear_layer.weight', tensor([[0.6926]], device='cuda:0')), ('linear_layer.bias', tensor([0.3133], device='cuda:0'))])\n",
            "Let's see what's happening here...\n",
            "Epoch: 84 | Loss: 0.010365366004407406 | Test loss: 0.013549727387726307\n",
            "OrderedDict([('linear_layer.weight', tensor([[0.6867]], device='cuda:0')), ('linear_layer.bias', tensor([0.2983], device='cuda:0'))])\n",
            "Let's see what's happening here...\n",
            "Epoch: 85 | Loss: 0.006916131358593702 | Test loss: 0.006656759884208441\n",
            "OrderedDict([('linear_layer.weight', tensor([[0.6926]], device='cuda:0')), ('linear_layer.bias', tensor([0.3133], device='cuda:0'))])\n",
            "Let's see what's happening here...\n",
            "Epoch: 86 | Loss: 0.010365366004407406 | Test loss: 0.013549727387726307\n",
            "OrderedDict([('linear_layer.weight', tensor([[0.6867]], device='cuda:0')), ('linear_layer.bias', tensor([0.2983], device='cuda:0'))])\n",
            "Let's see what's happening here...\n",
            "Epoch: 87 | Loss: 0.006916131358593702 | Test loss: 0.006656759884208441\n",
            "OrderedDict([('linear_layer.weight', tensor([[0.6926]], device='cuda:0')), ('linear_layer.bias', tensor([0.3133], device='cuda:0'))])\n",
            "Let's see what's happening here...\n",
            "Epoch: 88 | Loss: 0.010365366004407406 | Test loss: 0.013549727387726307\n",
            "OrderedDict([('linear_layer.weight', tensor([[0.6867]], device='cuda:0')), ('linear_layer.bias', tensor([0.2983], device='cuda:0'))])\n",
            "Let's see what's happening here...\n",
            "Epoch: 89 | Loss: 0.006916131358593702 | Test loss: 0.006656759884208441\n",
            "OrderedDict([('linear_layer.weight', tensor([[0.6926]], device='cuda:0')), ('linear_layer.bias', tensor([0.3133], device='cuda:0'))])\n",
            "Let's see what's happening here...\n",
            "Epoch: 90 | Loss: 0.010365366004407406 | Test loss: 0.013549727387726307\n",
            "OrderedDict([('linear_layer.weight', tensor([[0.6867]], device='cuda:0')), ('linear_layer.bias', tensor([0.2983], device='cuda:0'))])\n",
            "Let's see what's happening here...\n",
            "Epoch: 91 | Loss: 0.006916131358593702 | Test loss: 0.006656759884208441\n",
            "OrderedDict([('linear_layer.weight', tensor([[0.6926]], device='cuda:0')), ('linear_layer.bias', tensor([0.3133], device='cuda:0'))])\n",
            "Let's see what's happening here...\n",
            "Epoch: 92 | Loss: 0.010365366004407406 | Test loss: 0.013549727387726307\n",
            "OrderedDict([('linear_layer.weight', tensor([[0.6867]], device='cuda:0')), ('linear_layer.bias', tensor([0.2983], device='cuda:0'))])\n",
            "Let's see what's happening here...\n",
            "Epoch: 93 | Loss: 0.006916131358593702 | Test loss: 0.006656759884208441\n",
            "OrderedDict([('linear_layer.weight', tensor([[0.6926]], device='cuda:0')), ('linear_layer.bias', tensor([0.3133], device='cuda:0'))])\n",
            "Let's see what's happening here...\n",
            "Epoch: 94 | Loss: 0.010365366004407406 | Test loss: 0.013549727387726307\n",
            "OrderedDict([('linear_layer.weight', tensor([[0.6867]], device='cuda:0')), ('linear_layer.bias', tensor([0.2983], device='cuda:0'))])\n",
            "Let's see what's happening here...\n",
            "Epoch: 95 | Loss: 0.006916131358593702 | Test loss: 0.006656759884208441\n",
            "OrderedDict([('linear_layer.weight', tensor([[0.6926]], device='cuda:0')), ('linear_layer.bias', tensor([0.3133], device='cuda:0'))])\n",
            "Let's see what's happening here...\n",
            "Epoch: 96 | Loss: 0.010365366004407406 | Test loss: 0.013549727387726307\n",
            "OrderedDict([('linear_layer.weight', tensor([[0.6867]], device='cuda:0')), ('linear_layer.bias', tensor([0.2983], device='cuda:0'))])\n",
            "Let's see what's happening here...\n",
            "Epoch: 97 | Loss: 0.006916131358593702 | Test loss: 0.006656759884208441\n",
            "OrderedDict([('linear_layer.weight', tensor([[0.6926]], device='cuda:0')), ('linear_layer.bias', tensor([0.3133], device='cuda:0'))])\n",
            "Let's see what's happening here...\n",
            "Epoch: 98 | Loss: 0.010365366004407406 | Test loss: 0.013549727387726307\n",
            "OrderedDict([('linear_layer.weight', tensor([[0.6867]], device='cuda:0')), ('linear_layer.bias', tensor([0.2983], device='cuda:0'))])\n",
            "Let's see what's happening here...\n",
            "Epoch: 99 | Loss: 0.006916131358593702 | Test loss: 0.006656759884208441\n",
            "OrderedDict([('linear_layer.weight', tensor([[0.6926]], device='cuda:0')), ('linear_layer.bias', tensor([0.3133], device='cuda:0'))])\n"
          ]
        }
      ]
    },
    {
      "cell_type": "markdown",
      "source": [
        "To avoid the error: `can't convert cuda:0 device type tensor to numpy. Use Tensor.cpu() to copy the tensor to host memory first.`, use .cpu() below"
      ],
      "metadata": {
        "id": "wrVPZH_ApM1F"
      }
    },
    {
      "cell_type": "code",
      "source": [
        "# Since matplotlib works on numpy data ony, we need to convert PyTorch data to Numpy\n",
        "plt.plot(epoch_count, torch.tensor(train_loss_values).cpu().numpy(), label=\"Train Loss\")\n",
        "plt.plot(epoch_count, torch.tensor(test_loss_values).cpu().numpy(), label=\"Test Loss\")\n",
        "plt.title(\"Train and Test Loss Curves\")\n",
        "plt.ylabel(\"Loss\")\n",
        "plt.xlabel(\"Epochs\")\n",
        "plt.legend();"
      ],
      "metadata": {
        "colab": {
          "base_uri": "https://localhost:8080/",
          "height": 472
        },
        "id": "82mPn6I1RIaQ",
        "outputId": "c73097fb-ec2d-4ded-ff24-f906893f0649"
      },
      "execution_count": null,
      "outputs": [
        {
          "output_type": "display_data",
          "data": {
            "text/plain": [
              "<Figure size 640x480 with 1 Axes>"
            ],
            "image/png": "[encoded data removed]"
          },
          "metadata": {}
        }
      ]
    },
    {
      "cell_type": "code",
      "source": [
        "model_0.state_dict()"
      ],
      "metadata": {
        "id": "_WrDn9nwTyjc",
        "colab": {
          "base_uri": "https://localhost:8080/"
        },
        "outputId": "ba51e6ee-2e9b-44ea-bb7c-cbf0045a6671"
      },
      "execution_count": null,
      "outputs": [
        {
          "output_type": "execute_result",
          "data": {
            "text/plain": [
              "OrderedDict([('linear_layer.weight', tensor([[0.6926]], device='cuda:0')),\n",
              "             ('linear_layer.bias', tensor([0.3133], device='cuda:0'))])"
            ]
          },
          "metadata": {},
          "execution_count": 29
        }
      ]
    },
    {
      "cell_type": "code",
      "source": [
        "# Original weight and bias we defined for the linear equation\n",
        "weight, bias"
      ],
      "metadata": {
        "colab": {
          "base_uri": "https://localhost:8080/"
        },
        "id": "XmMVGMsCV1PU",
        "outputId": "1215dfaa-7c6d-427f-cb17-dff9f2c5e8fd"
      },
      "execution_count": null,
      "outputs": [
        {
          "output_type": "execute_result",
          "data": {
            "text/plain": [
              "(0.7, 0.3)"
            ]
          },
          "metadata": {},
          "execution_count": 30
        }
      ]
    },
    {
      "cell_type": "code",
      "source": [
        "plot_predictions(predictions=torch.tensor(y_preds).cpu().numpy())"
      ],
      "metadata": {
        "colab": {
          "base_uri": "https://localhost:8080/",
          "height": 654
        },
        "id": "6OwPwANwX4M2",
        "outputId": "614af6f5-4510-4701-c97e-6467247ea422"
      },
      "execution_count": null,
      "outputs": [
        {
          "output_type": "stream",
          "name": "stderr",
          "text": [
            "<ipython-input-31-38d4ae76050c>:1: UserWarning: To copy construct from a tensor, it is recommended to use sourceTensor.clone().detach() or sourceTensor.clone().detach().requires_grad_(True), rather than torch.tensor(sourceTensor).\n",
            "  plot_predictions(predictions=torch.tensor(y_preds).cpu().numpy())\n"
          ]
        },
        {
          "output_type": "display_data",
          "data": {
            "text/plain": [
              "<Figure size 1000x700 with 1 Axes>"
            ],
            "image/png": "[encoded data removed]"
          },
          "metadata": {}
        }
      ]
    },
    {
      "cell_type": "markdown",
      "source": [
        "To avoid the error: `can't convert cuda:0 device type tensor to numpy. Use Tensor.cpu() to copy the tensor to host memory first.`, use .cpu() below"
      ],
      "metadata": {
        "id": "WfUaBH1Qoobh"
      }
    },
    {
      "cell_type": "code",
      "source": [
        "plot_predictions(predictions=torch.tensor(test_pred).cpu().numpy()) # It's so much better than above. Almost optimal."
      ],
      "metadata": {
        "colab": {
          "base_uri": "https://localhost:8080/",
          "height": 654
        },
        "id": "THxzdwwiX8ky",
        "outputId": "29b57a5d-9c4a-4eb1-8c9e-d6734cd0a16c"
      },
      "execution_count": null,
      "outputs": [
        {
          "output_type": "stream",
          "name": "stderr",
          "text": [
            "<ipython-input-32-3afbb6bfe29b>:1: UserWarning: To copy construct from a tensor, it is recommended to use sourceTensor.clone().detach() or sourceTensor.clone().detach().requires_grad_(True), rather than torch.tensor(sourceTensor).\n",
            "  plot_predictions(predictions=torch.tensor(test_pred).cpu().numpy()) # It's so much better than above. Almost optimal.\n"
          ]
        },
        {
          "output_type": "display_data",
          "data": {
            "text/plain": [
              "<Figure size 1000x700 with 1 Axes>"
            ],
            "image/png": "[encoded data removed]"
          },
          "metadata": {}
        }
      ]
    },
    {
      "cell_type": "code",
      "source": [],
      "metadata": {
        "id": "S1NWqiVNYAU8"
      },
      "execution_count": null,
      "outputs": []
    },
    {
      "cell_type": "markdown",
      "source": [
        "### Saving and Loading the model\n",
        "\n",
        "https://pytorch.org/tutorials/beginner/saving_loading_models.html\n",
        "\n",
        "There are three main methods we should know for saing and loading models in PyTorcg.\n",
        "\n",
        "1. `torch.save()` - allows us to save a PyTorch object in Python's pickle format.\n",
        "\n",
        "2. `torch.load()` - allows us to load a saved PyTorch object.\n",
        "\n",
        "3. `torch.nn.Module.load_state_dict()` - this allows us to load a model's saved state dictionary."
      ],
      "metadata": {
        "id": "OG40w305Ttzk"
      }
    },
    {
      "cell_type": "code",
      "source": [
        "# Saving our PyTorch model\n",
        "from pathlib import Path\n",
        "\n",
        "# 1. Create models directory\n",
        "MODEL_PATH = Path(\"models\")\n",
        "MODEL_PATH.mkdir(parents=True, exist_ok=True)\n",
        "\n",
        "# 2. Create a model save path\n",
        "MODEL_NAME = '01_pytorch_workflow_model_0.pth'\n",
        "MODEL_SAVE_PATH = MODEL_PATH / MODEL_NAME\n",
        "print(f\"Saving model to: {MODEL_SAVE_PATH}\")\n",
        "\n",
        "# 3. Save the model state dict\n",
        "torch.save(obj=model_0.state_dict(),\n",
        "           f = MODEL_SAVE_PATH)"
      ],
      "metadata": {
        "colab": {
          "base_uri": "https://localhost:8080/"
        },
        "id": "anSwQQ4qUOxU",
        "outputId": "db78f1bb-e42d-4060-9a5e-50b57623dda0"
      },
      "execution_count": null,
      "outputs": [
        {
          "output_type": "stream",
          "name": "stdout",
          "text": [
            "Saving model to: models/01_pytorch_workflow_model_0.pth\n"
          ]
        }
      ]
    },
    {
      "cell_type": "code",
      "source": [
        "!ls -l models"
      ],
      "metadata": {
        "colab": {
          "base_uri": "https://localhost:8080/"
        },
        "id": "kyqlJsybXCiG",
        "outputId": "ef342fbc-851f-4f9d-d6fd-482344d3fbf9"
      },
      "execution_count": null,
      "outputs": [
        {
          "output_type": "stream",
          "name": "stdout",
          "text": [
            "total 4\n",
            "-rw-r--r-- 1 root root 1744 Jan 23 03:22 01_pytorch_workflow_model_0.pth\n"
          ]
        }
      ]
    },
    {
      "cell_type": "code",
      "source": [
        "# To load a saved state_dict we have to instantiate a new instance of our model class\n",
        "loaded_model_0 = LinearRegressionModelV2()\n",
        "print(loaded_model_0.state_dict()) # Randomly initialized\n",
        "\n",
        "\n",
        "# Load the saved state_dict of model_0 (this will update the new instance with updated paraeters)\n",
        "loaded_model_0.load_state_dict(torch.load(f=MODEL_SAVE_PATH))\n",
        "print(loaded_model_0.state_dict()) # Exact same value as model_0.state_dict()"
      ],
      "metadata": {
        "colab": {
          "base_uri": "https://localhost:8080/"
        },
        "id": "CP0LtUSZX4hK",
        "outputId": "15c99100-f069-4a76-b501-66877974f2c1"
      },
      "execution_count": null,
      "outputs": [
        {
          "output_type": "stream",
          "name": "stdout",
          "text": [
            "OrderedDict([('linear_layer.weight', tensor([[0.7645]])), ('linear_layer.bias', tensor([0.8300]))])\n",
            "OrderedDict([('linear_layer.weight', tensor([[0.6926]])), ('linear_layer.bias', tensor([0.3133]))])\n"
          ]
        },
        {
          "output_type": "stream",
          "name": "stderr",
          "text": [
            "<ipython-input-35-584d10130de0>:7: FutureWarning: You are using `torch.load` with `weights_only=False` (the current default value), which uses the default pickle module implicitly. It is possible to construct malicious pickle data which will execute arbitrary code during unpickling (See https://github.com/pytorch/pytorch/blob/main/SECURITY.md#untrusted-models for more details). In a future release, the default value for `weights_only` will be flipped to `True`. This limits the functions that could be executed during unpickling. Arbitrary objects will no longer be allowed to be loaded via this mode unless they are explicitly allowlisted by the user via `torch.serialization.add_safe_globals`. We recommend you start setting `weights_only=True` for any use case where you don't have full control of the loaded file. Please open an issue on GitHub for any issues related to this experimental feature.\n",
            "  loaded_model_0.load_state_dict(torch.load(f=MODEL_SAVE_PATH))\n"
          ]
        }
      ]
    },
    {
      "cell_type": "code",
      "source": [
        "# Current device of loaded model\n",
        "next(loaded_model_0.parameters()).device\n",
        "\n",
        "# Set the model to use the system device (Device Agnostic code for model)\n",
        "loaded_model_0.to(device)\n",
        "next(loaded_model_0.parameters()).device"
      ],
      "metadata": {
        "colab": {
          "base_uri": "https://localhost:8080/"
        },
        "id": "SSMKrHOTrh-0",
        "outputId": "5b4134db-4153-4042-b775-16aabb7da982"
      },
      "execution_count": null,
      "outputs": [
        {
          "output_type": "execute_result",
          "data": {
            "text/plain": [
              "device(type='cuda', index=0)"
            ]
          },
          "metadata": {},
          "execution_count": 36
        }
      ]
    },
    {
      "cell_type": "code",
      "source": [
        "# Make some predictions with our loaded model\n",
        "loaded_model_0.eval() # In eval() mode, it gets faster\n",
        "\n",
        "\n",
        "with torch.inference_mode():\n",
        "    loaded_model_preds = loaded_model_0(X_test)\n",
        "\n",
        "loaded_model_preds"
      ],
      "metadata": {
        "colab": {
          "base_uri": "https://localhost:8080/"
        },
        "id": "-lDAZFD4Zj3b",
        "outputId": "4fa08b25-7eaa-4094-d27e-05ed8bbbdc83"
      },
      "execution_count": null,
      "outputs": [
        {
          "output_type": "execute_result",
          "data": {
            "text/plain": [
              "tensor([[0.8673],\n",
              "        [0.8812],\n",
              "        [0.8950],\n",
              "        [0.9089],\n",
              "        [0.9227],\n",
              "        [0.9366],\n",
              "        [0.9504],\n",
              "        [0.9643],\n",
              "        [0.9781],\n",
              "        [0.9920]], device='cuda:0')"
            ]
          },
          "metadata": {},
          "execution_count": 37
        }
      ]
    },
    {
      "cell_type": "code",
      "source": [
        "# Compare loaded model preds with original model preds\n",
        "test_pred == loaded_model_preds"
      ],
      "metadata": {
        "colab": {
          "base_uri": "https://localhost:8080/"
        },
        "id": "4VySkFSRadKF",
        "outputId": "da7b38c1-8eef-4cb2-8577-a5333068626b"
      },
      "execution_count": null,
      "outputs": [
        {
          "output_type": "execute_result",
          "data": {
            "text/plain": [
              "tensor([[True],\n",
              "        [True],\n",
              "        [True],\n",
              "        [True],\n",
              "        [True],\n",
              "        [True],\n",
              "        [True],\n",
              "        [True],\n",
              "        [True],\n",
              "        [True]], device='cuda:0')"
            ]
          },
          "metadata": {},
          "execution_count": 38
        }
      ]
    },
    {
      "cell_type": "code",
      "source": [],
      "metadata": {
        "id": "am-8Ljmrasy4"
      },
      "execution_count": null,
      "outputs": []
    },
    {
      "cell_type": "markdown",
      "source": [
        "### Putting it all together\n",
        "\n",
        "Let's go back through the steps above and revise it."
      ],
      "metadata": {
        "id": "62Dv5Axuc0T-"
      }
    },
    {
      "cell_type": "code",
      "source": [],
      "metadata": {
        "id": "APear8_nc0mq"
      },
      "execution_count": null,
      "outputs": []
    }
  ]
}